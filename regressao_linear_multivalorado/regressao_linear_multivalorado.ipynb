{
 "cells": [
  {
   "cell_type": "code",
   "execution_count": 190,
   "metadata": {},
   "outputs": [],
   "source": [
    "import numpy as np\n",
    "import matplotlib.pyplot as plt\n",
    "import pandas as pd\n",
    "import math\n",
    "import re\n",
    "import zapimoveis_scraper\n",
    "\n",
    "%matplotlib inline"
   ]
  },
  {
   "cell_type": "code",
   "execution_count": 191,
   "metadata": {},
   "outputs": [],
   "source": [
    "## Dados\n",
    "zap_imoveis = zapimoveis_scraper.search(localization=\"go+goiania++setor-oeste\", num_pages=8)\n",
    "new_list_zap = {}\n",
    "\n",
    "prices = []\n",
    "areas = []\n",
    "quartos = []\n",
    "for zap_imovel in zap_imoveis:\n",
    "    prices.append(int(re.sub('[^0-9]', '', zap_imovel.price)))\n",
    "    areas.append(int(str(zap_imovel.total_area_m2).replace('m2', '')))\n",
    "    quartos.append(int(re.sub('[^0-9]', '', zap_imovel.bedrooms)))\n",
    "\n",
    "new_list_zap['tamanho'] = areas\n",
    "new_list_zap['quartos'] = quartos\n",
    "new_list_zap['preco'] = prices\n",
    "apes = pd.DataFrame(new_list_zap)"
   ]
  },
  {
   "cell_type": "code",
   "execution_count": 192,
   "metadata": {},
   "outputs": [],
   "source": [
    "## Normalizando os dados\n",
    "apes = (apes - apes.mean()) / apes.std()"
   ]
  },
  {
   "cell_type": "code",
   "execution_count": 193,
   "metadata": {},
   "outputs": [
    {
     "data": {
      "text/html": [
       "<div>\n",
       "<style scoped>\n",
       "    .dataframe tbody tr th:only-of-type {\n",
       "        vertical-align: middle;\n",
       "    }\n",
       "\n",
       "    .dataframe tbody tr th {\n",
       "        vertical-align: top;\n",
       "    }\n",
       "\n",
       "    .dataframe thead th {\n",
       "        text-align: right;\n",
       "    }\n",
       "</style>\n",
       "<table border=\"1\" class=\"dataframe\">\n",
       "  <thead>\n",
       "    <tr style=\"text-align: right;\">\n",
       "      <th></th>\n",
       "      <th>tamanho</th>\n",
       "      <th>quartos</th>\n",
       "      <th>preco</th>\n",
       "    </tr>\n",
       "  </thead>\n",
       "  <tbody>\n",
       "    <tr>\n",
       "      <th>0</th>\n",
       "      <td>-0.379081</td>\n",
       "      <td>-0.41789</td>\n",
       "      <td>-0.835964</td>\n",
       "    </tr>\n",
       "    <tr>\n",
       "      <th>1</th>\n",
       "      <td>0.242647</td>\n",
       "      <td>-0.41789</td>\n",
       "      <td>0.953304</td>\n",
       "    </tr>\n",
       "    <tr>\n",
       "      <th>2</th>\n",
       "      <td>-0.534513</td>\n",
       "      <td>0.41789</td>\n",
       "      <td>-0.758170</td>\n",
       "    </tr>\n",
       "    <tr>\n",
       "      <th>3</th>\n",
       "      <td>-0.249555</td>\n",
       "      <td>0.41789</td>\n",
       "      <td>0.175361</td>\n",
       "    </tr>\n",
       "    <tr>\n",
       "      <th>4</th>\n",
       "      <td>-0.322090</td>\n",
       "      <td>-0.41789</td>\n",
       "      <td>-0.505339</td>\n",
       "    </tr>\n",
       "  </tbody>\n",
       "</table>\n",
       "</div>"
      ],
      "text/plain": [
       "    tamanho  quartos     preco\n",
       "0 -0.379081 -0.41789 -0.835964\n",
       "1  0.242647 -0.41789  0.953304\n",
       "2 -0.534513  0.41789 -0.758170\n",
       "3 -0.249555  0.41789  0.175361\n",
       "4 -0.322090 -0.41789 -0.505339"
      ]
     },
     "execution_count": 193,
     "metadata": {},
     "output_type": "execute_result"
    }
   ],
   "source": [
    "apes.head()"
   ]
  },
  {
   "cell_type": "code",
   "execution_count": 194,
   "metadata": {},
   "outputs": [],
   "source": [
    "## TAXA DE APRENDIZADO ( velocidade de descida )\n",
    "alpha = 0.01"
   ]
  },
  {
   "cell_type": "code",
   "execution_count": 195,
   "metadata": {},
   "outputs": [
    {
     "data": {
      "text/plain": [
       "2"
      ]
     },
     "execution_count": 195,
     "metadata": {},
     "output_type": "execute_result"
    }
   ],
   "source": [
    "## Pegando numero de features\n",
    "n_features = len(apes.columns)-1\n",
    "n_features"
   ]
  },
  {
   "cell_type": "code",
   "execution_count": 196,
   "metadata": {},
   "outputs": [
    {
     "data": {
      "text/plain": [
       "array([[0.58356699, 0.84963044, 0.49480727]])"
      ]
     },
     "execution_count": 196,
     "metadata": {},
     "output_type": "execute_result"
    }
   ],
   "source": [
    "## VALORES INICIAIS PARA W's\n",
    "w = np.random.rand(1,n_features+1) ## Gerando valores aleatórios entre 0 e 1\n",
    "w"
   ]
  },
  {
   "cell_type": "code",
   "execution_count": 197,
   "metadata": {},
   "outputs": [
    {
     "data": {
      "text/plain": [
       "array([[-0.37908142, -0.41789036],\n",
       "       [ 0.24264665, -0.41789036],\n",
       "       [-0.53451344,  0.41789036],\n",
       "       [-0.24955474,  0.41789036],\n",
       "       [-0.32208968, -0.41789036],\n",
       "       [-0.2236494 , -0.41789036],\n",
       "       [ 0.08721463,  2.92523252],\n",
       "       [-0.43089209, -0.41789036],\n",
       "       [ 0.17529278, -0.41789036],\n",
       "       [-0.32727075, -0.41789036],\n",
       "       [-1.13033617, -1.25367108],\n",
       "       [ 3.09223365,  0.41789036],\n",
       "       [-0.37908142, -0.41789036],\n",
       "       [ 0.24264665, -0.41789036],\n",
       "       [-0.53451344,  0.41789036],\n",
       "       [-0.24955474,  0.41789036],\n",
       "       [-0.32208968, -0.41789036],\n",
       "       [-0.2236494 , -0.41789036],\n",
       "       [ 0.08721463,  2.92523252],\n",
       "       [-0.43089209, -0.41789036],\n",
       "       [ 0.17529278, -0.41789036],\n",
       "       [-0.32727075, -0.41789036],\n",
       "       [-1.13033617, -1.25367108],\n",
       "       [ 3.09223365,  0.41789036],\n",
       "       [-0.37908142, -0.41789036],\n",
       "       [ 0.24264665, -0.41789036],\n",
       "       [-0.53451344,  0.41789036],\n",
       "       [-0.24955474,  0.41789036],\n",
       "       [-0.32208968, -0.41789036],\n",
       "       [-0.2236494 , -0.41789036],\n",
       "       [ 0.08721463,  2.92523252],\n",
       "       [-0.43089209, -0.41789036],\n",
       "       [ 0.17529278, -0.41789036],\n",
       "       [-0.32727075, -0.41789036],\n",
       "       [-1.13033617, -1.25367108],\n",
       "       [ 3.09223365,  0.41789036],\n",
       "       [-0.37908142, -0.41789036],\n",
       "       [ 0.24264665, -0.41789036],\n",
       "       [-0.53451344,  0.41789036],\n",
       "       [-0.24955474,  0.41789036],\n",
       "       [-0.32208968, -0.41789036],\n",
       "       [-0.2236494 , -0.41789036],\n",
       "       [ 0.08721463,  2.92523252],\n",
       "       [-0.43089209, -0.41789036],\n",
       "       [ 0.17529278, -0.41789036],\n",
       "       [-0.32727075, -0.41789036],\n",
       "       [-1.13033617, -1.25367108],\n",
       "       [ 3.09223365,  0.41789036],\n",
       "       [-0.37908142, -0.41789036],\n",
       "       [ 0.24264665, -0.41789036],\n",
       "       [-0.53451344,  0.41789036],\n",
       "       [-0.24955474,  0.41789036],\n",
       "       [-0.32208968, -0.41789036],\n",
       "       [-0.2236494 , -0.41789036],\n",
       "       [ 0.08721463,  2.92523252],\n",
       "       [-0.43089209, -0.41789036],\n",
       "       [ 0.17529278, -0.41789036],\n",
       "       [-0.32727075, -0.41789036],\n",
       "       [-1.13033617, -1.25367108],\n",
       "       [ 3.09223365,  0.41789036],\n",
       "       [-0.37908142, -0.41789036],\n",
       "       [ 0.24264665, -0.41789036],\n",
       "       [-0.53451344,  0.41789036],\n",
       "       [-0.24955474,  0.41789036],\n",
       "       [-0.32208968, -0.41789036],\n",
       "       [-0.2236494 , -0.41789036],\n",
       "       [ 0.08721463,  2.92523252],\n",
       "       [-0.43089209, -0.41789036],\n",
       "       [ 0.17529278, -0.41789036],\n",
       "       [-0.32727075, -0.41789036],\n",
       "       [-1.13033617, -1.25367108],\n",
       "       [ 3.09223365,  0.41789036],\n",
       "       [-0.37908142, -0.41789036],\n",
       "       [ 0.24264665, -0.41789036],\n",
       "       [-0.53451344,  0.41789036],\n",
       "       [-0.24955474,  0.41789036],\n",
       "       [-0.32208968, -0.41789036],\n",
       "       [-0.2236494 , -0.41789036],\n",
       "       [ 0.08721463,  2.92523252],\n",
       "       [-0.43089209, -0.41789036],\n",
       "       [ 0.17529278, -0.41789036],\n",
       "       [-0.32727075, -0.41789036],\n",
       "       [-1.13033617, -1.25367108],\n",
       "       [ 3.09223365,  0.41789036],\n",
       "       [-0.37908142, -0.41789036],\n",
       "       [ 0.24264665, -0.41789036],\n",
       "       [-0.53451344,  0.41789036],\n",
       "       [-0.24955474,  0.41789036],\n",
       "       [-0.32208968, -0.41789036],\n",
       "       [-0.2236494 , -0.41789036],\n",
       "       [ 0.08721463,  2.92523252],\n",
       "       [-0.43089209, -0.41789036],\n",
       "       [ 0.17529278, -0.41789036],\n",
       "       [-0.32727075, -0.41789036],\n",
       "       [-1.13033617, -1.25367108],\n",
       "       [ 3.09223365,  0.41789036]])"
      ]
     },
     "execution_count": 197,
     "metadata": {},
     "output_type": "execute_result"
    }
   ],
   "source": [
    "## Transformando dataframe em numpy\n",
    "X = np.array(apes.drop('preco', axis=1))\n",
    "X # X equivale ao tamanho e ao numero de quartos"
   ]
  },
  {
   "cell_type": "code",
   "execution_count": 198,
   "metadata": {},
   "outputs": [
    {
     "data": {
      "text/plain": [
       "array([[-0.83596441],\n",
       "       [ 0.95330412],\n",
       "       [-0.75817012],\n",
       "       [ 0.17536128],\n",
       "       [-0.5053387 ],\n",
       "       [ 0.36984699],\n",
       "       [-0.25250728],\n",
       "       [-0.6414787 ],\n",
       "       [ 0.36984699],\n",
       "       [-0.56368441],\n",
       "       [-1.01489126],\n",
       "       [ 2.7036755 ],\n",
       "       [-0.83596441],\n",
       "       [ 0.95330412],\n",
       "       [-0.75817012],\n",
       "       [ 0.17536128],\n",
       "       [-0.5053387 ],\n",
       "       [ 0.36984699],\n",
       "       [-0.25250728],\n",
       "       [-0.6414787 ],\n",
       "       [ 0.36984699],\n",
       "       [-0.56368441],\n",
       "       [-1.01489126],\n",
       "       [ 2.7036755 ],\n",
       "       [-0.83596441],\n",
       "       [ 0.95330412],\n",
       "       [-0.75817012],\n",
       "       [ 0.17536128],\n",
       "       [-0.5053387 ],\n",
       "       [ 0.36984699],\n",
       "       [-0.25250728],\n",
       "       [-0.6414787 ],\n",
       "       [ 0.36984699],\n",
       "       [-0.56368441],\n",
       "       [-1.01489126],\n",
       "       [ 2.7036755 ],\n",
       "       [-0.83596441],\n",
       "       [ 0.95330412],\n",
       "       [-0.75817012],\n",
       "       [ 0.17536128],\n",
       "       [-0.5053387 ],\n",
       "       [ 0.36984699],\n",
       "       [-0.25250728],\n",
       "       [-0.6414787 ],\n",
       "       [ 0.36984699],\n",
       "       [-0.56368441],\n",
       "       [-1.01489126],\n",
       "       [ 2.7036755 ],\n",
       "       [-0.83596441],\n",
       "       [ 0.95330412],\n",
       "       [-0.75817012],\n",
       "       [ 0.17536128],\n",
       "       [-0.5053387 ],\n",
       "       [ 0.36984699],\n",
       "       [-0.25250728],\n",
       "       [-0.6414787 ],\n",
       "       [ 0.36984699],\n",
       "       [-0.56368441],\n",
       "       [-1.01489126],\n",
       "       [ 2.7036755 ],\n",
       "       [-0.83596441],\n",
       "       [ 0.95330412],\n",
       "       [-0.75817012],\n",
       "       [ 0.17536128],\n",
       "       [-0.5053387 ],\n",
       "       [ 0.36984699],\n",
       "       [-0.25250728],\n",
       "       [-0.6414787 ],\n",
       "       [ 0.36984699],\n",
       "       [-0.56368441],\n",
       "       [-1.01489126],\n",
       "       [ 2.7036755 ],\n",
       "       [-0.83596441],\n",
       "       [ 0.95330412],\n",
       "       [-0.75817012],\n",
       "       [ 0.17536128],\n",
       "       [-0.5053387 ],\n",
       "       [ 0.36984699],\n",
       "       [-0.25250728],\n",
       "       [-0.6414787 ],\n",
       "       [ 0.36984699],\n",
       "       [-0.56368441],\n",
       "       [-1.01489126],\n",
       "       [ 2.7036755 ],\n",
       "       [-0.83596441],\n",
       "       [ 0.95330412],\n",
       "       [-0.75817012],\n",
       "       [ 0.17536128],\n",
       "       [-0.5053387 ],\n",
       "       [ 0.36984699],\n",
       "       [-0.25250728],\n",
       "       [-0.6414787 ],\n",
       "       [ 0.36984699],\n",
       "       [-0.56368441],\n",
       "       [-1.01489126],\n",
       "       [ 2.7036755 ]])"
      ]
     },
     "execution_count": 198,
     "metadata": {},
     "output_type": "execute_result"
    }
   ],
   "source": [
    "y = apes.iloc[:, 2:3].values\n",
    "y # y equivale ao preço"
   ]
  },
  {
   "cell_type": "code",
   "execution_count": 199,
   "metadata": {},
   "outputs": [],
   "source": [
    "## CRIANDO X0 = 1\n",
    "def insert_ones(X):\n",
    "    ones = np.ones([X.shape[0],1])\n",
    "    return np.concatenate((ones,X) , axis=1)"
   ]
  },
  {
   "cell_type": "code",
   "execution_count": 200,
   "metadata": {},
   "outputs": [
    {
     "data": {
      "text/plain": [
       "array([[ 1.        , -0.37908142, -0.41789036],\n",
       "       [ 1.        ,  0.24264665, -0.41789036],\n",
       "       [ 1.        , -0.53451344,  0.41789036],\n",
       "       [ 1.        , -0.24955474,  0.41789036],\n",
       "       [ 1.        , -0.32208968, -0.41789036],\n",
       "       [ 1.        , -0.2236494 , -0.41789036],\n",
       "       [ 1.        ,  0.08721463,  2.92523252],\n",
       "       [ 1.        , -0.43089209, -0.41789036],\n",
       "       [ 1.        ,  0.17529278, -0.41789036],\n",
       "       [ 1.        , -0.32727075, -0.41789036],\n",
       "       [ 1.        , -1.13033617, -1.25367108],\n",
       "       [ 1.        ,  3.09223365,  0.41789036],\n",
       "       [ 1.        , -0.37908142, -0.41789036],\n",
       "       [ 1.        ,  0.24264665, -0.41789036],\n",
       "       [ 1.        , -0.53451344,  0.41789036],\n",
       "       [ 1.        , -0.24955474,  0.41789036],\n",
       "       [ 1.        , -0.32208968, -0.41789036],\n",
       "       [ 1.        , -0.2236494 , -0.41789036],\n",
       "       [ 1.        ,  0.08721463,  2.92523252],\n",
       "       [ 1.        , -0.43089209, -0.41789036],\n",
       "       [ 1.        ,  0.17529278, -0.41789036],\n",
       "       [ 1.        , -0.32727075, -0.41789036],\n",
       "       [ 1.        , -1.13033617, -1.25367108],\n",
       "       [ 1.        ,  3.09223365,  0.41789036],\n",
       "       [ 1.        , -0.37908142, -0.41789036],\n",
       "       [ 1.        ,  0.24264665, -0.41789036],\n",
       "       [ 1.        , -0.53451344,  0.41789036],\n",
       "       [ 1.        , -0.24955474,  0.41789036],\n",
       "       [ 1.        , -0.32208968, -0.41789036],\n",
       "       [ 1.        , -0.2236494 , -0.41789036],\n",
       "       [ 1.        ,  0.08721463,  2.92523252],\n",
       "       [ 1.        , -0.43089209, -0.41789036],\n",
       "       [ 1.        ,  0.17529278, -0.41789036],\n",
       "       [ 1.        , -0.32727075, -0.41789036],\n",
       "       [ 1.        , -1.13033617, -1.25367108],\n",
       "       [ 1.        ,  3.09223365,  0.41789036],\n",
       "       [ 1.        , -0.37908142, -0.41789036],\n",
       "       [ 1.        ,  0.24264665, -0.41789036],\n",
       "       [ 1.        , -0.53451344,  0.41789036],\n",
       "       [ 1.        , -0.24955474,  0.41789036],\n",
       "       [ 1.        , -0.32208968, -0.41789036],\n",
       "       [ 1.        , -0.2236494 , -0.41789036],\n",
       "       [ 1.        ,  0.08721463,  2.92523252],\n",
       "       [ 1.        , -0.43089209, -0.41789036],\n",
       "       [ 1.        ,  0.17529278, -0.41789036],\n",
       "       [ 1.        , -0.32727075, -0.41789036],\n",
       "       [ 1.        , -1.13033617, -1.25367108],\n",
       "       [ 1.        ,  3.09223365,  0.41789036],\n",
       "       [ 1.        , -0.37908142, -0.41789036],\n",
       "       [ 1.        ,  0.24264665, -0.41789036],\n",
       "       [ 1.        , -0.53451344,  0.41789036],\n",
       "       [ 1.        , -0.24955474,  0.41789036],\n",
       "       [ 1.        , -0.32208968, -0.41789036],\n",
       "       [ 1.        , -0.2236494 , -0.41789036],\n",
       "       [ 1.        ,  0.08721463,  2.92523252],\n",
       "       [ 1.        , -0.43089209, -0.41789036],\n",
       "       [ 1.        ,  0.17529278, -0.41789036],\n",
       "       [ 1.        , -0.32727075, -0.41789036],\n",
       "       [ 1.        , -1.13033617, -1.25367108],\n",
       "       [ 1.        ,  3.09223365,  0.41789036],\n",
       "       [ 1.        , -0.37908142, -0.41789036],\n",
       "       [ 1.        ,  0.24264665, -0.41789036],\n",
       "       [ 1.        , -0.53451344,  0.41789036],\n",
       "       [ 1.        , -0.24955474,  0.41789036],\n",
       "       [ 1.        , -0.32208968, -0.41789036],\n",
       "       [ 1.        , -0.2236494 , -0.41789036],\n",
       "       [ 1.        ,  0.08721463,  2.92523252],\n",
       "       [ 1.        , -0.43089209, -0.41789036],\n",
       "       [ 1.        ,  0.17529278, -0.41789036],\n",
       "       [ 1.        , -0.32727075, -0.41789036],\n",
       "       [ 1.        , -1.13033617, -1.25367108],\n",
       "       [ 1.        ,  3.09223365,  0.41789036],\n",
       "       [ 1.        , -0.37908142, -0.41789036],\n",
       "       [ 1.        ,  0.24264665, -0.41789036],\n",
       "       [ 1.        , -0.53451344,  0.41789036],\n",
       "       [ 1.        , -0.24955474,  0.41789036],\n",
       "       [ 1.        , -0.32208968, -0.41789036],\n",
       "       [ 1.        , -0.2236494 , -0.41789036],\n",
       "       [ 1.        ,  0.08721463,  2.92523252],\n",
       "       [ 1.        , -0.43089209, -0.41789036],\n",
       "       [ 1.        ,  0.17529278, -0.41789036],\n",
       "       [ 1.        , -0.32727075, -0.41789036],\n",
       "       [ 1.        , -1.13033617, -1.25367108],\n",
       "       [ 1.        ,  3.09223365,  0.41789036],\n",
       "       [ 1.        , -0.37908142, -0.41789036],\n",
       "       [ 1.        ,  0.24264665, -0.41789036],\n",
       "       [ 1.        , -0.53451344,  0.41789036],\n",
       "       [ 1.        , -0.24955474,  0.41789036],\n",
       "       [ 1.        , -0.32208968, -0.41789036],\n",
       "       [ 1.        , -0.2236494 , -0.41789036],\n",
       "       [ 1.        ,  0.08721463,  2.92523252],\n",
       "       [ 1.        , -0.43089209, -0.41789036],\n",
       "       [ 1.        ,  0.17529278, -0.41789036],\n",
       "       [ 1.        , -0.32727075, -0.41789036],\n",
       "       [ 1.        , -1.13033617, -1.25367108],\n",
       "       [ 1.        ,  3.09223365,  0.41789036]])"
      ]
     },
     "execution_count": 200,
     "metadata": {},
     "output_type": "execute_result"
    }
   ],
   "source": [
    "X = insert_ones(X)\n",
    "X"
   ]
  },
  {
   "cell_type": "code",
   "execution_count": 201,
   "metadata": {},
   "outputs": [],
   "source": [
    "## Função MSE(Média do erro ao quadrado)\n",
    "def MSE(w,X,y):\n",
    "    m = len(X)\n",
    "    erro = (X@w.T - y)\n",
    "    custo = np.sum(np.power(erro,2))\n",
    "    \n",
    "    return custo/m"
   ]
  },
  {
   "cell_type": "code",
   "execution_count": 202,
   "metadata": {},
   "outputs": [],
   "source": [
    "epoch = 600"
   ]
  },
  {
   "cell_type": "code",
   "execution_count": 203,
   "metadata": {},
   "outputs": [],
   "source": [
    "## Gradiente Descendente\n",
    "def gradient_descent(w, X, y, alpha, epoch):\n",
    "    custo = np.zeros(epoch)\n",
    "    \n",
    "    for i in range(epoch):\n",
    "        w = w - (alpha/len(X)) * np.sum((X@w.T - y)*X, axis=0)\n",
    "        custo[i] = MSE(w, X, y)\n",
    "    \n",
    "    return w, custo"
   ]
  },
  {
   "cell_type": "code",
   "execution_count": 204,
   "metadata": {},
   "outputs": [],
   "source": [
    "w, cost = gradient_descent(w, X, y, alpha, epoch)"
   ]
  },
  {
   "cell_type": "code",
   "execution_count": 205,
   "metadata": {},
   "outputs": [
    {
     "data": {
      "text/plain": [
       "0.13024362006644366"
      ]
     },
     "execution_count": 205,
     "metadata": {},
     "output_type": "execute_result"
    }
   ],
   "source": [
    "MSE(w, X, y)"
   ]
  },
  {
   "cell_type": "code",
   "execution_count": 206,
   "metadata": {},
   "outputs": [
    {
     "data": {
      "text/plain": [
       "array([[ 0.00140348,  0.95000559, -0.10019439]])"
      ]
     },
     "execution_count": 206,
     "metadata": {},
     "output_type": "execute_result"
    }
   ],
   "source": [
    "w"
   ]
  },
  {
   "cell_type": "code",
   "execution_count": 207,
   "metadata": {},
   "outputs": [
    {
     "data": {
      "text/plain": [
       "Text(0.5, 1.0, 'Erro vs. Epoch')"
      ]
     },
     "execution_count": 207,
     "metadata": {},
     "output_type": "execute_result"
    },
    {
     "data": {
      "image/png": "[encoded data removed]",
      "text/plain": [
       "<Figure size 432x288 with 1 Axes>"
      ]
     },
     "metadata": {},
     "output_type": "display_data"
    }
   ],
   "source": [
    "fig, ax = plt.subplots()  \n",
    "ax.plot(np.arange(epoch), cost, 'r')  \n",
    "ax.set_xlabel('Iterações')  \n",
    "ax.set_ylabel('Custo')  \n",
    "ax.set_title('Erro vs. Epoch')"
   ]
  }
 ],
 "metadata": {
  "kernelspec": {
   "display_name": "Python 3",
   "language": "python",
   "name": "python3"
  },
  "language_info": {
   "codemirror_mode": {
    "name": "ipython",
    "version": 3
   },
   "file_extension": ".py",
   "mimetype": "text/x-python",
   "name": "python",
   "nbconvert_exporter": "python",
   "pygments_lexer": "ipython3",
   "version": "3.6.7"
  }
 },
 "nbformat": 4,
 "nbformat_minor": 2
}
