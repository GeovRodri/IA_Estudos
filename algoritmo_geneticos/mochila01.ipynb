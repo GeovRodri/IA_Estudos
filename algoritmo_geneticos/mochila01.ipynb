{
 "cells": [
  {
   "cell_type": "code",
   "execution_count": 16,
   "metadata": {
    "scrolled": true
   },
   "outputs": [],
   "source": [
    "import numpy as np"
   ]
  },
  {
   "cell_type": "code",
   "execution_count": 17,
   "metadata": {},
   "outputs": [],
   "source": [
    "def resolver_mochila(pesos, valores, tam):\n",
    "    n = len(pesos)\n",
    "    func_valores = np.zeros([n + 1, tam + 1])\n",
    "    func_matriz = np.zeros([n + 1, tam + 1])\n",
    "    \n",
    "    for i in range(1, n + 1): \n",
    "        for x in range(0, tam + 1):\n",
    "            if(x - pesos[i - 1] >= 0):\n",
    "                func_matriz[i, x] = max(func_matriz[i - 1, x], func_matriz[i - 1,x - pesos[i - 1]] + valores[i - 1])\n",
    "                \n",
    "                if(func_valores[i - 1, x] < func_valores[i - 1,x - pesos[i - 1]] + valores[i - 1]):\n",
    "                    func_matriz[i, x] = 1\n",
    "            else:\n",
    "                func_valores[i, x] = func_valores[i - 1, x]\n",
    "                \n",
    "    return func_valores, func_matriz          "
   ]
  },
  {
   "cell_type": "code",
   "execution_count": 18,
   "metadata": {},
   "outputs": [],
   "source": [
    "def mostrar_conteudo(func_matriz, pesos):\n",
    "    (n, tam) = np.shape(func_matriz)\n",
    "    n -= 1\n",
    "    tam -= 1\n",
    "    conteudo = []\n",
    "    k = tam\n",
    "    \n",
    "    for i in range(n, 0, -1):\n",
    "        if(func_matriz[i, k] == 1):\n",
    "            conteudo.append(i - 1)\n",
    "            k = tam - pesos[i - 1]                    \n",
    "    \n",
    "    return conteudo"
   ]
  },
  {
   "cell_type": "code",
   "execution_count": 19,
   "metadata": {},
   "outputs": [],
   "source": [
    "tam = 165\n",
    "pesos = [23, 31, 29, 44, 53, 38, 63, 85, 89, 82]\n",
    "lucros = [92, 57, 49, 68, 60, 43, 67, 84, 87, 72]"
   ]
  },
  {
   "cell_type": "code",
   "execution_count": 20,
   "metadata": {},
   "outputs": [
    {
     "name": "stdout",
     "output_type": "stream",
     "text": [
      "[9, 6, 5, 4, 3, 2, 1, 0]\n"
     ]
    }
   ],
   "source": [
    "(func_valores, func_matriz) = resolver_mochila(pesos, lucros, tam)  \n",
    "print(mostrar_conteudo(func_matriz, pesos))"
   ]
  }
 ],
 "metadata": {
  "kernelspec": {
   "display_name": "Python 3",
   "language": "python",
   "name": "python3"
  },
  "language_info": {
   "codemirror_mode": {
    "name": "ipython",
    "version": 3
   },
   "file_extension": ".py",
   "mimetype": "text/x-python",
   "name": "python",
   "nbconvert_exporter": "python",
   "pygments_lexer": "ipython3",
   "version": "3.6.7"
  }
 },
 "nbformat": 4,
 "nbformat_minor": 2
}
