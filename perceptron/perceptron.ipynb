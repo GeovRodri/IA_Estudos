{
 "cells": [
  {
   "cell_type": "code",
   "execution_count": 7,
   "metadata": {},
   "outputs": [],
   "source": [
    "import numpy as np\n",
    "import pandas as pd\n",
    "import matplotlib.pyplot as plt\n",
    "import math\n",
    "import scipy.special\n",
    "\n",
    "%matplotlib inline"
   ]
  },
  {
   "cell_type": "code",
   "execution_count": 8,
   "metadata": {},
   "outputs": [],
   "source": [
    "inputs = np.array([[0, 0], [0, 1], [1, 0], [1, 1]])\n",
    "targets = np.array([0, 0, 0, 1])\n",
    "bias = 1\n",
    "weights = np.ones(2)\n",
    "rate = 0.1\n",
    "iteration = 10000\n",
    "\n",
    "\n",
    "for index in range(iteration):\n",
    "    for i in range(len(inputs)):\n",
    "        net = np.inner(inputs[i], weights) + bias\n",
    "        output = scipy.special.expit(net)\n",
    "        error = rate*(targets[i]-output)\n",
    "        weights = np.add(weights, (error*inputs[i]))\n",
    "        bias = bias + error\n",
    "        \n",
    "x2 = (-1) * bias / weights[1]\n",
    "x1 = (-1) * bias / weights[0]"
   ]
  },
  {
   "cell_type": "code",
   "execution_count": 9,
   "metadata": {},
   "outputs": [],
   "source": [
    "X = [x1, 0]\n",
    "Y = [0, x2]\n",
    "reta = [X, Y]"
   ]
  },
  {
   "cell_type": "code",
   "execution_count": 10,
   "metadata": {
    "scrolled": true
   },
   "outputs": [
    {
     "data": {
      "image/png": "[encoded data removed]",
      "text/plain": [
       "<Figure size 432x288 with 1 Axes>"
      ]
     },
     "metadata": {},
     "output_type": "display_data"
    }
   ],
   "source": [
    "plt.plot(inputs[0], inputs[1], inputs[2],inputs[3], 'bo')\n",
    "plt.show()"
   ]
  },
  {
   "cell_type": "code",
   "execution_count": 11,
   "metadata": {},
   "outputs": [
    {
     "data": {
      "text/plain": [
       "array([[0, 0],\n",
       "       [0, 1],\n",
       "       [1, 0],\n",
       "       [1, 1]])"
      ]
     },
     "execution_count": 11,
     "metadata": {},
     "output_type": "execute_result"
    }
   ],
   "source": [
    "inputs"
   ]
  },
  {
   "cell_type": "code",
   "execution_count": 12,
   "metadata": {},
   "outputs": [
    {
     "name": "stdout",
     "output_type": "stream",
     "text": [
      "Net 4.946213716584303, Output 0.9929399195848533, Target 1, bias -15.517468698287615\n"
     ]
    }
   ],
   "source": [
    "print(\"Net {0}, Output {1}, Target {2}, bias {3}\".format(net, output, targets[i], bias))"
   ]
  }
 ],
 "metadata": {
  "kernelspec": {
   "display_name": "Python 3",
   "language": "python",
   "name": "python3"
  },
  "language_info": {
   "codemirror_mode": {
    "name": "ipython",
    "version": 3
   },
   "file_extension": ".py",
   "mimetype": "text/x-python",
   "name": "python",
   "nbconvert_exporter": "python",
   "pygments_lexer": "ipython3",
   "version": "3.6.7"
  }
 },
 "nbformat": 4,
 "nbformat_minor": 2
}
