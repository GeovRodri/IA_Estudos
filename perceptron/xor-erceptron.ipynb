{
 "cells": [
  {
   "cell_type": "code",
   "execution_count": 14,
   "metadata": {},
   "outputs": [],
   "source": [
    "import numpy as np \n",
    "import matplotlib.pyplot as plt \n",
    "\n",
    "%matplotlib inline"
   ]
  },
  {
   "cell_type": "code",
   "execution_count": 15,
   "metadata": {},
   "outputs": [],
   "source": [
    "X = np.array([[0, 1], [1, 0], [1, 1], [0, 0]])\n",
    "y = np.array([[1], [1], [0], [0]])"
   ]
  },
  {
   "cell_type": "code",
   "execution_count": 16,
   "metadata": {},
   "outputs": [],
   "source": [
    "num_input = 2\n",
    "num_hidden = 2\n",
    "num_output = 1"
   ]
  },
  {
   "cell_type": "code",
   "execution_count": 17,
   "metadata": {},
   "outputs": [],
   "source": [
    "alfa = 0.01 # taxa de aprendizado\n",
    "overfitting = 0\n",
    "epoch = 100000\n",
    "m = 4 # número de exemplos de treinamento"
   ]
  },
  {
   "cell_type": "code",
   "execution_count": 18,
   "metadata": {},
   "outputs": [],
   "source": [
    "# Gerando os pesos\n",
    "np.random.seed(1)\n",
    "W1 = np.random.normal(0, 1, (num_hidden, num_input)) # 2x2\n",
    "W2 = np.random.normal(0, 1, (num_output, num_hidden)) # 1x2\n",
    "\n",
    "B1 = np.random.random((num_hidden, 1)) # 2x1\n",
    "B2 = np.random.random((num_output, 1)) #1x1"
   ]
  },
  {
   "cell_type": "code",
   "execution_count": 19,
   "metadata": {},
   "outputs": [],
   "source": [
    "# Função sigmoidal\n",
    "def sigmoid(z, derv=False):\n",
    "    if derv: return z * (1 - z)\n",
    "    return 1 / (1 + np.exp(-z)) "
   ]
  },
  {
   "cell_type": "code",
   "execution_count": 20,
   "metadata": {},
   "outputs": [],
   "source": [
    "# Forward Propagation\n",
    "def forward(x, predito = False):\n",
    "    a1 = x.reshape(x.shape[0], 1) #obtendo o exemplo de treinamento\n",
    "    \n",
    "    z2 = W1.dot(a1) + B1\n",
    "    a2 = sigmoid(z2)\n",
    "    \n",
    "    z3 = W2.dot(a2)\n",
    "    a3 = sigmoid(z3)\n",
    "    \n",
    "    if predito: return a3\n",
    "    return (a1, a2, a3)"
   ]
  },
  {
   "cell_type": "code",
   "execution_count": 21,
   "metadata": {},
   "outputs": [],
   "source": [
    "# Inicializando as variáveis para o Gradiente\n",
    "\n",
    "dW1 = 0\n",
    "dW2 = 0\n",
    "\n",
    "dB1 = 0\n",
    "dB2 = 0\n",
    "\n",
    "custo = np.zeros((epoch, 1))"
   ]
  },
  {
   "cell_type": "code",
   "execution_count": 22,
   "metadata": {},
   "outputs": [],
   "source": [
    "# Função de treinamento\n",
    "def treinamento(W_1, W_2, B_1, B_2): # Argumentos para evitar o UnboundLocalError\n",
    "    for i in range(epoch):\n",
    "        c = 0\n",
    "        dW1 = 0\n",
    "        dW2 = 0\n",
    "        dB1 = 0\n",
    "        dB2 = 0\n",
    "        \n",
    "        for j in range(m):            \n",
    "            # Forward Propagation\n",
    "            a0 = X[j].reshape(X[j].shape[0], 1)\n",
    "            \n",
    "            z1 = W_1.dot(a0) + B_1\n",
    "            a1 = sigmoid(z1)\n",
    "            \n",
    "            z2 = W_2.dot(a1) + B_2\n",
    "            a2 = sigmoid(z2)\n",
    "            \n",
    "            # Back Propagation\n",
    "            dz2 = a2 - y[j]\n",
    "            dW2 += dz2 * a1.T\n",
    "            \n",
    "            dz1 = np.multiply((W_2.T * dz2), sigmoid(a1, derv = True))\n",
    "            dW1 += dz1.dot(a0.T)\n",
    "            \n",
    "            dB1 += dz1\n",
    "            dB2 += dz2\n",
    "            \n",
    "            c += (-(y[j] * np.log(a2)) - ((1 - y[j]) * np.log(1 - a2)))\n",
    "            \n",
    "        W_1 = W_1 - alfa * (dW1 / m) + ((overfitting / m) * W1)\n",
    "        W_2 = W_2 - alfa * (dW2 / m) + ((overfitting / m) * W2)\n",
    "        \n",
    "        B_1 = B_1 - alfa * (dB1 / m)\n",
    "        B_2 = B_2 - alfa * (dB2 / m)\n",
    "        \n",
    "        custo[i] = (c / m) + (\n",
    "        (overfitting / (2 * m)) *\n",
    "        ( np.sum(np.power(W_1, 2)) + np.sum(np.power(W_2, 2))\n",
    "        ))\n",
    "    return (W_1, W_2, B_1, B_2)"
   ]
  },
  {
   "cell_type": "code",
   "execution_count": 23,
   "metadata": {},
   "outputs": [],
   "source": [
    "# Testando\n",
    "W1, W2, B1, B2 = treinamento(W1, W2, B1, B2)"
   ]
  },
  {
   "cell_type": "code",
   "execution_count": 24,
   "metadata": {},
   "outputs": [
    {
     "data": {
      "text/plain": [
       "<function matplotlib.pyplot.show>"
      ]
     },
     "execution_count": 24,
     "metadata": {},
     "output_type": "execute_result"
    },
    {
     "data": {
      "image/png": "[encoded data removed]",
      "text/plain": [
       "<Figure size 432x288 with 1 Axes>"
      ]
     },
     "metadata": {},
     "output_type": "display_data"
    }
   ],
   "source": [
    "# Plotando\n",
    "plt.plot(range(epoch), custo)\n",
    "plt.title('Queda do custo - Back Propagation')\n",
    "plt.xlabel('Iterações')\n",
    "plt.ylabel('Custo')\n",
    "plt.show"
   ]
  }
 ],
 "metadata": {
  "kernelspec": {
   "display_name": "Python 3",
   "language": "python",
   "name": "python3"
  },
  "language_info": {
   "codemirror_mode": {
    "name": "ipython",
    "version": 3
   },
   "file_extension": ".py",
   "mimetype": "text/x-python",
   "name": "python",
   "nbconvert_exporter": "python",
   "pygments_lexer": "ipython3",
   "version": "3.6.7"
  }
 },
 "nbformat": 4,
 "nbformat_minor": 2
}
