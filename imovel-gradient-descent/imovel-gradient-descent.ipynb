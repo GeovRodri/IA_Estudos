{
 "cells": [
  {
   "cell_type": "code",
   "execution_count": 52,
   "metadata": {},
   "outputs": [],
   "source": [
    "import numpy as np\n",
    "import matplotlib.pyplot as plt\n",
    "import pandas as pd\n",
    "import math\n",
    "\n",
    "%matplotlib inline"
   ]
  },
  {
   "cell_type": "code",
   "execution_count": 53,
   "metadata": {},
   "outputs": [],
   "source": [
    "## Dados\n",
    "apes = pd.read_csv('apes-aluguel.csv')\n",
    "\n",
    "X_original = np.array(apes.tamanho)\n",
    "y_original = np.array(apes.preco)"
   ]
  },
  {
   "cell_type": "code",
   "execution_count": 54,
   "metadata": {},
   "outputs": [],
   "source": [
    "## Normalizando os dados\n",
    "### Função para pegar o maior e o menor\n",
    "def pegar_min_max(linha):\n",
    "    maior = max(linha)\n",
    "    menor = min(linha)\n",
    "    \n",
    "    return menor, maior\n",
    "\n",
    "def normalizar(menor, maior, dados):\n",
    "    dados_normalizados = []\n",
    "    for dado in dados:\n",
    "        dados_normalizados.append((dado - menor) / (maior - menor))\n",
    "    return dados_normalizados"
   ]
  },
  {
   "cell_type": "code",
   "execution_count": 55,
   "metadata": {},
   "outputs": [],
   "source": [
    "minX, maxX = pegar_min_max(X_original)\n",
    "minY, maxY = pegar_min_max(y_original)\n",
    "\n",
    "X = normalizar(minX, maxX, X_original)\n",
    "y = normalizar(minY, maxY, y_original)"
   ]
  },
  {
   "cell_type": "code",
   "execution_count": 56,
   "metadata": {},
   "outputs": [
    {
     "data": {
      "text/plain": [
       "[0.6216216216216216,\n",
       " 0.10270270270270271,\n",
       " 1.0,\n",
       " 1.0,\n",
       " 0.2864864864864865,\n",
       " 0.21621621621621623,\n",
       " 0.24324324324324326,\n",
       " 0.016216216216216217,\n",
       " 0.08108108108108109,\n",
       " 0.08108108108108109,\n",
       " 0.1891891891891892,\n",
       " 0.6054054054054054,\n",
       " 0.1891891891891892,\n",
       " 0.2594594594594595,\n",
       " 0.32972972972972975,\n",
       " 0.35135135135135137,\n",
       " 0.2594594594594595,\n",
       " 0.3675675675675676,\n",
       " 0.4,\n",
       " 0.6216216216216216,\n",
       " 0.2648648648648649,\n",
       " 0.17297297297297298,\n",
       " 0.4,\n",
       " 0.3081081081081081,\n",
       " 0.016216216216216217,\n",
       " 0.32972972972972975,\n",
       " 0.2594594594594595,\n",
       " 0.032432432432432434,\n",
       " 0.5027027027027027,\n",
       " 0.2702702702702703,\n",
       " 0.13513513513513514,\n",
       " 0.25405405405405407,\n",
       " 0.40540540540540543,\n",
       " 0.6216216216216216,\n",
       " 0.2594594594594595,\n",
       " 0.2594594594594595,\n",
       " 0.32972972972972975,\n",
       " 0.5405405405405406,\n",
       " 0.24324324324324326,\n",
       " 1.0,\n",
       " 0.016216216216216217,\n",
       " 0.24324324324324326,\n",
       " 0.14594594594594595,\n",
       " 0.14594594594594595,\n",
       " 0.4594594594594595,\n",
       " 0.2702702702702703,\n",
       " 0.2702702702702703,\n",
       " 0.7621621621621621,\n",
       " 0.32972972972972975,\n",
       " 0.14594594594594595,\n",
       " 0.35135135135135137,\n",
       " 0.1783783783783784,\n",
       " 0.35135135135135137,\n",
       " 0.13513513513513514,\n",
       " 0.32972972972972975,\n",
       " 0.0,\n",
       " 0.08108108108108109,\n",
       " 0.3675675675675676,\n",
       " 0.08108108108108109,\n",
       " 0.08108108108108109,\n",
       " 0.11891891891891893,\n",
       " 0.25405405405405407,\n",
       " 0.13513513513513514,\n",
       " 0.0,\n",
       " 0.1891891891891892,\n",
       " 1.0,\n",
       " 1.0,\n",
       " 0.5675675675675675,\n",
       " 0.7189189189189189,\n",
       " 1.0,\n",
       " 0.6810810810810811,\n",
       " 0.43783783783783786,\n",
       " 0.7081081081081081,\n",
       " 0.24324324324324326,\n",
       " 0.4594594594594595,\n",
       " 0.2594594594594595,\n",
       " 0.2594594594594595,\n",
       " 0.32432432432432434,\n",
       " 0.6216216216216216,\n",
       " 0.2702702702702703,\n",
       " 0.24324324324324326,\n",
       " 0.2702702702702703,\n",
       " 0.14594594594594595,\n",
       " 1.0,\n",
       " 0.32972972972972975,\n",
       " 0.1837837837837838,\n",
       " 0.32972972972972975,\n",
       " 0.6216216216216216,\n",
       " 0.24324324324324326,\n",
       " 0.1891891891891892,\n",
       " 0.35135135135135137,\n",
       " 0.4594594594594595,\n",
       " 0.4594594594594595,\n",
       " 0.5135135135135135,\n",
       " 0.5135135135135135,\n",
       " 0.24324324324324326,\n",
       " 0.3783783783783784,\n",
       " 0.43783783783783786,\n",
       " 0.32432432432432434,\n",
       " 0.12972972972972974,\n",
       " 0.5891891891891892,\n",
       " 0.5675675675675675,\n",
       " 0.32432432432432434,\n",
       " 0.5135135135135135,\n",
       " 0.40540540540540543,\n",
       " 0.40540540540540543,\n",
       " 0.24864864864864866,\n",
       " 0.35135135135135137,\n",
       " 0.21621621621621623,\n",
       " 0.24324324324324326,\n",
       " 0.1891891891891892,\n",
       " 0.32432432432432434,\n",
       " 0.4594594594594595,\n",
       " 0.13513513513513514,\n",
       " 0.13513513513513514,\n",
       " 0.44324324324324327,\n",
       " 0.08108108108108109,\n",
       " 0.23243243243243245,\n",
       " 0.4594594594594595,\n",
       " 0.3675675675675676,\n",
       " 0.043243243243243246,\n",
       " 0.6216216216216216]"
      ]
     },
     "execution_count": 56,
     "metadata": {},
     "output_type": "execute_result"
    }
   ],
   "source": [
    "X"
   ]
  },
  {
   "cell_type": "code",
   "execution_count": 57,
   "metadata": {},
   "outputs": [
    {
     "data": {
      "text/plain": [
       "[0.6296296296296297,\n",
       " 0.18518518518518517,\n",
       " 0.4444444444444444,\n",
       " 0.4444444444444444,\n",
       " 0.22839506172839505,\n",
       " 0.07407407407407407,\n",
       " 0.32098765432098764,\n",
       " 0.09259259259259259,\n",
       " 0.09259259259259259,\n",
       " 0.19753086419753085,\n",
       " 0.0,\n",
       " 0.4444444444444444,\n",
       " 0.12345679012345678,\n",
       " 1.0,\n",
       " 0.5679012345679012,\n",
       " 0.29012345679012347,\n",
       " 1.0,\n",
       " 0.16666666666666666,\n",
       " 0.29012345679012347,\n",
       " 0.5061728395061729,\n",
       " 0.38271604938271603,\n",
       " 0.6172839506172839,\n",
       " 0.13580246913580246,\n",
       " 0.25925925925925924,\n",
       " 0.09259259259259259,\n",
       " 0.5679012345679012,\n",
       " 1.0,\n",
       " 0.09259259259259259,\n",
       " 0.32098765432098764,\n",
       " 0.16666666666666666,\n",
       " 0.19753086419753085,\n",
       " 0.29012345679012347,\n",
       " 0.19753086419753085,\n",
       " 0.6296296296296297,\n",
       " 1.0,\n",
       " 1.0,\n",
       " 0.5679012345679012,\n",
       " 0.13580246913580246,\n",
       " 0.38271604938271603,\n",
       " 0.4444444444444444,\n",
       " 0.09259259259259259,\n",
       " 0.19753086419753085,\n",
       " 0.10493827160493827,\n",
       " 0.10493827160493827,\n",
       " 0.32098765432098764,\n",
       " 0.16666666666666666,\n",
       " 0.16666666666666666,\n",
       " 0.4444444444444444,\n",
       " 0.5679012345679012,\n",
       " 0.10493827160493827,\n",
       " 0.30864197530864196,\n",
       " 0.043209876543209874,\n",
       " 0.6296296296296297,\n",
       " 0.07407407407407407,\n",
       " 0.5679012345679012,\n",
       " 0.09259259259259259,\n",
       " 0.16666666666666666,\n",
       " 0.4444444444444444,\n",
       " 0.16666666666666666,\n",
       " 0.13580246913580246,\n",
       " 0.10493827160493827,\n",
       " 0.16666666666666666,\n",
       " 0.012345679012345678,\n",
       " 0.09259259259259259,\n",
       " 0.12962962962962962,\n",
       " 0.4444444444444444,\n",
       " 0.4444444444444444,\n",
       " 0.5061728395061729,\n",
       " 0.5061728395061729,\n",
       " 0.4444444444444444,\n",
       " 1.0,\n",
       " 0.18518518518518517,\n",
       " 0.7098765432098766,\n",
       " 0.07407407407407407,\n",
       " 0.25925925925925924,\n",
       " 1.0,\n",
       " 1.0,\n",
       " 0.29012345679012347,\n",
       " 0.38271604938271603,\n",
       " 0.16666666666666666,\n",
       " 0.22839506172839505,\n",
       " 0.25925925925925924,\n",
       " 0.10493827160493827,\n",
       " 0.4444444444444444,\n",
       " 0.5679012345679012,\n",
       " 0.18518518518518517,\n",
       " 0.5679012345679012,\n",
       " 0.25925925925925924,\n",
       " 0.20987654320987653,\n",
       " 0.29012345679012347,\n",
       " 0.22839506172839505,\n",
       " 0.4444444444444444,\n",
       " 0.16666666666666666,\n",
       " 0.37037037037037035,\n",
       " 0.32098765432098764,\n",
       " 0.29012345679012347,\n",
       " 0.5061728395061729,\n",
       " 0.25925925925925924,\n",
       " 0.16666666666666666,\n",
       " 0.32098765432098764,\n",
       " 0.5679012345679012,\n",
       " 0.43209876543209874,\n",
       " 0.29012345679012347,\n",
       " 0.35185185185185186,\n",
       " 0.29012345679012347,\n",
       " 0.38271604938271603,\n",
       " 0.5061728395061729,\n",
       " 0.29012345679012347,\n",
       " 0.22839506172839505,\n",
       " 0.29012345679012347,\n",
       " 0.19753086419753085,\n",
       " 0.16666666666666666,\n",
       " 0.32098765432098764,\n",
       " 0.13580246913580246,\n",
       " 0.06172839506172839,\n",
       " 0.38271604938271603,\n",
       " 0.29012345679012347,\n",
       " 0.07407407407407407,\n",
       " 0.38271604938271603,\n",
       " 0.32098765432098764,\n",
       " 0.16666666666666666,\n",
       " 0.32098765432098764]"
      ]
     },
     "execution_count": 57,
     "metadata": {},
     "output_type": "execute_result"
    }
   ],
   "source": [
    "y"
   ]
  },
  {
   "cell_type": "code",
   "execution_count": 58,
   "metadata": {},
   "outputs": [],
   "source": [
    "## TAXA DE APRENDIZADO ( velocidade de descida )\n",
    "alpha = 0.01"
   ]
  },
  {
   "cell_type": "code",
   "execution_count": 59,
   "metadata": {},
   "outputs": [],
   "source": [
    "## VALORES INICIAIS PARA W0 e W1\n",
    "w0 = 0.1\n",
    "w1 = 0.1"
   ]
  },
  {
   "cell_type": "code",
   "execution_count": 60,
   "metadata": {},
   "outputs": [],
   "source": [
    "## Definindo hipótese\n",
    "def hip(x, w0, w1):\n",
    "    return w0 + w1*x"
   ]
  },
  {
   "cell_type": "code",
   "execution_count": 61,
   "metadata": {},
   "outputs": [
    {
     "data": {
      "text/plain": [
       "0.25"
      ]
     },
     "execution_count": 61,
     "metadata": {},
     "output_type": "execute_result"
    }
   ],
   "source": [
    "## Realizando uma predição com o custo alto\n",
    "hip(1.5, w0, w1)"
   ]
  },
  {
   "cell_type": "code",
   "execution_count": 62,
   "metadata": {},
   "outputs": [],
   "source": [
    "## Função para plotar pontos e regressão\n",
    "def plot_line(X, y, w0, w1):\n",
    "    x_values = [i for i in range(int(min(X))-1, int(max(X))+2)]\n",
    "    y_values = [hip(x, w0, w1) for x in x_values]\n",
    "    plt.xlabel(\"Tamanho(m2)\")\n",
    "    plt.ylabel(\"Preço\")\n",
    "    plt.plot(x_values, y_values, 'r')\n",
    "    plt.plot(X, y, 'bo')"
   ]
  },
  {
   "cell_type": "code",
   "execution_count": 63,
   "metadata": {},
   "outputs": [
    {
     "data": {
      "image/png": "[encoded data removed]",
      "text/plain": [
       "<Figure size 432x288 with 1 Axes>"
      ]
     },
     "metadata": {},
     "output_type": "display_data"
    }
   ],
   "source": [
    "plot_line(X, y, w0, w1)"
   ]
  },
  {
   "cell_type": "code",
   "execution_count": 64,
   "metadata": {},
   "outputs": [],
   "source": [
    "## Função MSE(Média do erro ao quadrado)\n",
    "def MSE(X, y, w0, w1):\n",
    "    custo = 0\n",
    "    m = float(len(X))\n",
    "\n",
    "    for i in range(0, len(X)):\n",
    "        custo += (hip(X[i], w0, w1) - y[i]) ** 2\n",
    "\n",
    "    return custo / m"
   ]
  },
  {
   "cell_type": "code",
   "execution_count": 65,
   "metadata": {},
   "outputs": [
    {
     "data": {
      "text/plain": [
       "0.09394721865256363"
      ]
     },
     "execution_count": 65,
     "metadata": {},
     "output_type": "execute_result"
    }
   ],
   "source": [
    "MSE(X, y, w0, w1)"
   ]
  },
  {
   "cell_type": "code",
   "execution_count": 66,
   "metadata": {},
   "outputs": [],
   "source": [
    "epoch = 800"
   ]
  },
  {
   "cell_type": "code",
   "execution_count": 67,
   "metadata": {},
   "outputs": [],
   "source": [
    "## Gradiente Descendente\n",
    "### STEP\n",
    "def gradient_descent_step(w0, w1, X, y, alpha):\n",
    "    erro_w0 = 0\n",
    "    erro_w1 = 0\n",
    "    m = float(len(X))\n",
    "\n",
    "    for i in range(0, len(X)):\n",
    "        erro_w0 += hip(float(X[i]), w0, w1) - float(y[i])\n",
    "        erro_w1 += (hip(float(X[i]), w0, w1) - float(y[i])) * X[i]\n",
    "\n",
    "    novo_w0 = w0 - alpha * (1 / m) * erro_w0\n",
    "    novo_w1 = w1 - alpha * (1 / m) * erro_w1\n",
    "    \n",
    "    return novo_w0, novo_w1"
   ]
  },
  {
   "cell_type": "code",
   "execution_count": 68,
   "metadata": {},
   "outputs": [],
   "source": [
    "### LOOP\n",
    "def gradient_descent(w0, w1, X, y, alpha, epoch):\n",
    "    custo = np.zeros(epoch)\n",
    "\n",
    "    for i in range(epoch):\n",
    "        w0, w1 = gradient_descent_step(w0, w1, X, y, alpha)\n",
    "        custo[i] = MSE(X, y, w0, w1)\n",
    "\n",
    "    return w0, w1, custo"
   ]
  },
  {
   "cell_type": "code",
   "execution_count": 69,
   "metadata": {},
   "outputs": [],
   "source": [
    "w0 , w1 , custo = gradient_descent(w0, w1, X, y, alpha, epoch)"
   ]
  },
  {
   "cell_type": "code",
   "execution_count": 70,
   "metadata": {},
   "outputs": [
    {
     "data": {
      "text/plain": [
       "array([0.09299435, 0.09206281, 0.09115211, 0.09026179, 0.08939138,\n",
       "       0.08854045, 0.08770855, 0.08689527, 0.08610017, 0.08532286,\n",
       "       0.08456293, 0.08382   , 0.08309368, 0.0823836 , 0.0816894 ,\n",
       "       0.08101072, 0.08034721, 0.07969854, 0.07906436, 0.07844436,\n",
       "       0.07783822, 0.07724562, 0.07666627, 0.07609986, 0.0755461 ,\n",
       "       0.07500472, 0.07447543, 0.07395796, 0.07345205, 0.07295744,\n",
       "       0.07247387, 0.0720011 , 0.07153889, 0.07108699, 0.07064518,\n",
       "       0.07021323, 0.06979093, 0.06937804, 0.06897437, 0.0685797 ,\n",
       "       0.06819384, 0.06781658, 0.06744774, 0.06708712, 0.06673454,\n",
       "       0.06638982, 0.06605278, 0.06572326, 0.06540108, 0.06508608,\n",
       "       0.06477809, 0.06447697, 0.06418255, 0.06389469, 0.06361323,\n",
       "       0.06333804, 0.06306898, 0.0628059 , 0.06254868, 0.06229717,\n",
       "       0.06205127, 0.06181083, 0.06157573, 0.06134586, 0.0611211 ,\n",
       "       0.06090133, 0.06068645, 0.06047634, 0.06027089, 0.06007001,\n",
       "       0.05987358, 0.05968151, 0.0594937 , 0.05931006, 0.05913049,\n",
       "       0.0589549 , 0.05878321, 0.05861532, 0.05845114, 0.0582906 ,\n",
       "       0.05813362, 0.05798011, 0.05783   , 0.05768321, 0.05753966,\n",
       "       0.05739929, 0.05726202, 0.05712778, 0.05699651, 0.05686814,\n",
       "       0.0567426 , 0.05661982, 0.05649976, 0.05638234, 0.05626751,\n",
       "       0.05615522, 0.05604539, 0.05593798, 0.05583293, 0.0557302 ,\n",
       "       0.05562972, 0.05553145, 0.05543535, 0.05534135, 0.05524941,\n",
       "       0.05515949, 0.05507154, 0.05498552, 0.05490138, 0.05481909,\n",
       "       0.05473859, 0.05465986, 0.05458284, 0.05450751, 0.05443383,\n",
       "       0.05436175, 0.05429124, 0.05422227, 0.0541548 , 0.0540888 ,\n",
       "       0.05402424, 0.05396108, 0.05389929, 0.05383884, 0.0537797 ,\n",
       "       0.05372185, 0.05366525, 0.05360987, 0.05355569, 0.05350269,\n",
       "       0.05345082, 0.05340008, 0.05335043, 0.05330185, 0.05325431,\n",
       "       0.0532078 , 0.05316228, 0.05311775, 0.05307416, 0.05303152,\n",
       "       0.05298978, 0.05294894, 0.05290897, 0.05286985, 0.05283156,\n",
       "       0.05279409, 0.05275742, 0.05272152, 0.05268639, 0.052652  ,\n",
       "       0.05261834, 0.05258539, 0.05255314, 0.05252157, 0.05249066,\n",
       "       0.0524604 , 0.05243078, 0.05240178, 0.05237338, 0.05234558,\n",
       "       0.05231836, 0.05229171, 0.05226561, 0.05224006, 0.05221503,\n",
       "       0.05219053, 0.05216653, 0.05214303, 0.05212001, 0.05209746,\n",
       "       0.05207538, 0.05205375, 0.05203256, 0.05201181, 0.05199147,\n",
       "       0.05197156, 0.05195204, 0.05193292, 0.05191419, 0.05189584,\n",
       "       0.05187785, 0.05186023, 0.05184296, 0.05182604, 0.05180945,\n",
       "       0.05179319, 0.05177726, 0.05176164, 0.05174633, 0.05173132,\n",
       "       0.0517166 , 0.05170218, 0.05168803, 0.05167417, 0.05166057,\n",
       "       0.05164723, 0.05163415, 0.05162133, 0.05160875, 0.05159641,\n",
       "       0.0515843 , 0.05157243, 0.05156078, 0.05154935, 0.05153814,\n",
       "       0.05152713, 0.05151634, 0.05150574, 0.05149534, 0.05148513,\n",
       "       0.05147511, 0.05146527, 0.05145562, 0.05144614, 0.05143683,\n",
       "       0.05142769, 0.05141871, 0.05140989, 0.05140124, 0.05139273,\n",
       "       0.05138437, 0.05137617, 0.0513681 , 0.05136018, 0.05135239,\n",
       "       0.05134474, 0.05133721, 0.05132982, 0.05132255, 0.05131541,\n",
       "       0.05130838, 0.05130148, 0.05129468, 0.051288  , 0.05128143,\n",
       "       0.05127497, 0.05126861, 0.05126235, 0.0512562 , 0.05125014,\n",
       "       0.05124418, 0.05123831, 0.05123254, 0.05122685, 0.05122126,\n",
       "       0.05121574, 0.05121032, 0.05120497, 0.05119971, 0.05119452,\n",
       "       0.05118941, 0.05118438, 0.05117942, 0.05117453, 0.05116971,\n",
       "       0.05116496, 0.05116028, 0.05115566, 0.05115111, 0.05114662,\n",
       "       0.05114219, 0.05113782, 0.05113352, 0.05112926, 0.05112507,\n",
       "       0.05112093, 0.05111685, 0.05111281, 0.05110883, 0.0511049 ,\n",
       "       0.05110102, 0.05109719, 0.05109341, 0.05108967, 0.05108598,\n",
       "       0.05108233, 0.05107872, 0.05107516, 0.05107164, 0.05106816,\n",
       "       0.05106472, 0.05106132, 0.05105795, 0.05105462, 0.05105133,\n",
       "       0.05104808, 0.05104486, 0.05104167, 0.05103852, 0.0510354 ,\n",
       "       0.05103232, 0.05102926, 0.05102624, 0.05102324, 0.05102027,\n",
       "       0.05101734, 0.05101443, 0.05101155, 0.05100869, 0.05100586,\n",
       "       0.05100306, 0.05100029, 0.05099753, 0.05099481, 0.0509921 ,\n",
       "       0.05098942, 0.05098676, 0.05098413, 0.05098151, 0.05097892,\n",
       "       0.05097635, 0.0509738 , 0.05097127, 0.05096876, 0.05096627,\n",
       "       0.05096379, 0.05096134, 0.0509589 , 0.05095648, 0.05095408,\n",
       "       0.0509517 , 0.05094933, 0.05094698, 0.05094464, 0.05094232,\n",
       "       0.05094002, 0.05093773, 0.05093546, 0.0509332 , 0.05093095,\n",
       "       0.05092872, 0.0509265 , 0.05092429, 0.0509221 , 0.05091992,\n",
       "       0.05091776, 0.0509156 , 0.05091346, 0.05091133, 0.05090921,\n",
       "       0.0509071 , 0.05090501, 0.05090292, 0.05090085, 0.05089878,\n",
       "       0.05089673, 0.05089469, 0.05089265, 0.05089063, 0.05088861,\n",
       "       0.05088661, 0.05088461, 0.05088263, 0.05088065, 0.05087868,\n",
       "       0.05087672, 0.05087477, 0.05087282, 0.05087089, 0.05086896,\n",
       "       0.05086704, 0.05086513, 0.05086322, 0.05086132, 0.05085943,\n",
       "       0.05085755, 0.05085568, 0.05085381, 0.05085194, 0.05085009,\n",
       "       0.05084824, 0.0508464 , 0.05084456, 0.05084273, 0.0508409 ,\n",
       "       0.05083909, 0.05083727, 0.05083547, 0.05083367, 0.05083187,\n",
       "       0.05083008, 0.0508283 , 0.05082652, 0.05082474, 0.05082297,\n",
       "       0.05082121, 0.05081945, 0.0508177 , 0.05081595, 0.05081421,\n",
       "       0.05081247, 0.05081073, 0.050809  , 0.05080727, 0.05080555,\n",
       "       0.05080384, 0.05080212, 0.05080042, 0.05079871, 0.05079701,\n",
       "       0.05079531, 0.05079362, 0.05079193, 0.05079025, 0.05078857,\n",
       "       0.05078689, 0.05078522, 0.05078355, 0.05078188, 0.05078022,\n",
       "       0.05077856, 0.05077691, 0.05077526, 0.05077361, 0.05077196,\n",
       "       0.05077032, 0.05076868, 0.05076705, 0.05076541, 0.05076378,\n",
       "       0.05076216, 0.05076054, 0.05075892, 0.0507573 , 0.05075569,\n",
       "       0.05075407, 0.05075247, 0.05075086, 0.05074926, 0.05074766,\n",
       "       0.05074606, 0.05074447, 0.05074288, 0.05074129, 0.0507397 ,\n",
       "       0.05073812, 0.05073654, 0.05073496, 0.05073338, 0.05073181,\n",
       "       0.05073024, 0.05072867, 0.05072711, 0.05072554, 0.05072398,\n",
       "       0.05072242, 0.05072087, 0.05071931, 0.05071776, 0.05071621,\n",
       "       0.05071466, 0.05071312, 0.05071158, 0.05071004, 0.0507085 ,\n",
       "       0.05070696, 0.05070543, 0.0507039 , 0.05070237, 0.05070084,\n",
       "       0.05069931, 0.05069779, 0.05069627, 0.05069475, 0.05069323,\n",
       "       0.05069172, 0.0506902 , 0.05068869, 0.05068718, 0.05068568,\n",
       "       0.05068417, 0.05068267, 0.05068117, 0.05067967, 0.05067817,\n",
       "       0.05067667, 0.05067518, 0.05067369, 0.0506722 , 0.05067071,\n",
       "       0.05066922, 0.05066774, 0.05066626, 0.05066478, 0.0506633 ,\n",
       "       0.05066182, 0.05066034, 0.05065887, 0.0506574 , 0.05065593,\n",
       "       0.05065446, 0.05065299, 0.05065153, 0.05065006, 0.0506486 ,\n",
       "       0.05064714, 0.05064568, 0.05064423, 0.05064277, 0.05064132,\n",
       "       0.05063987, 0.05063842, 0.05063697, 0.05063552, 0.05063408,\n",
       "       0.05063263, 0.05063119, 0.05062975, 0.05062831, 0.05062687,\n",
       "       0.05062544, 0.050624  , 0.05062257, 0.05062114, 0.05061971,\n",
       "       0.05061828, 0.05061686, 0.05061543, 0.05061401, 0.05061259,\n",
       "       0.05061117, 0.05060975, 0.05060833, 0.05060692, 0.05060551,\n",
       "       0.05060409, 0.05060268, 0.05060127, 0.05059987, 0.05059846,\n",
       "       0.05059705, 0.05059565, 0.05059425, 0.05059285, 0.05059145,\n",
       "       0.05059005, 0.05058866, 0.05058726, 0.05058587, 0.05058448,\n",
       "       0.05058309, 0.0505817 , 0.05058031, 0.05057893, 0.05057754,\n",
       "       0.05057616, 0.05057478, 0.0505734 , 0.05057202, 0.05057064,\n",
       "       0.05056927, 0.05056789, 0.05056652, 0.05056515, 0.05056378,\n",
       "       0.05056241, 0.05056104, 0.05055967, 0.05055831, 0.05055695,\n",
       "       0.05055558, 0.05055422, 0.05055286, 0.05055151, 0.05055015,\n",
       "       0.0505488 , 0.05054744, 0.05054609, 0.05054474, 0.05054339,\n",
       "       0.05054204, 0.0505407 , 0.05053935, 0.05053801, 0.05053666,\n",
       "       0.05053532, 0.05053398, 0.05053264, 0.05053131, 0.05052997,\n",
       "       0.05052864, 0.0505273 , 0.05052597, 0.05052464, 0.05052331,\n",
       "       0.05052198, 0.05052066, 0.05051933, 0.05051801, 0.05051668,\n",
       "       0.05051536, 0.05051404, 0.05051272, 0.05051141, 0.05051009,\n",
       "       0.05050877, 0.05050746, 0.05050615, 0.05050484, 0.05050353,\n",
       "       0.05050222, 0.05050091, 0.05049961, 0.0504983 , 0.050497  ,\n",
       "       0.0504957 , 0.0504944 , 0.0504931 , 0.0504918 , 0.0504905 ,\n",
       "       0.05048921, 0.05048791, 0.05048662, 0.05048533, 0.05048404,\n",
       "       0.05048275, 0.05048146, 0.05048017, 0.05047889, 0.05047761,\n",
       "       0.05047632, 0.05047504, 0.05047376, 0.05047248, 0.0504712 ,\n",
       "       0.05046993, 0.05046865, 0.05046738, 0.05046611, 0.05046483,\n",
       "       0.05046356, 0.05046229, 0.05046103, 0.05045976, 0.0504585 ,\n",
       "       0.05045723, 0.05045597, 0.05045471, 0.05045345, 0.05045219,\n",
       "       0.05045093, 0.05044967, 0.05044842, 0.05044716, 0.05044591,\n",
       "       0.05044466, 0.05044341, 0.05044216, 0.05044091, 0.05043966,\n",
       "       0.05043842, 0.05043717, 0.05043593, 0.05043469, 0.05043345,\n",
       "       0.05043221, 0.05043097, 0.05042973, 0.0504285 , 0.05042726,\n",
       "       0.05042603, 0.0504248 , 0.05042357, 0.05042234, 0.05042111,\n",
       "       0.05041988, 0.05041865, 0.05041743, 0.0504162 , 0.05041498,\n",
       "       0.05041376, 0.05041254, 0.05041132, 0.0504101 , 0.05040888,\n",
       "       0.05040767, 0.05040645, 0.05040524, 0.05040403, 0.05040282,\n",
       "       0.05040161, 0.0504004 , 0.05039919, 0.05039799, 0.05039678,\n",
       "       0.05039558, 0.05039438, 0.05039317, 0.05039197, 0.05039077,\n",
       "       0.05038958, 0.05038838, 0.05038718, 0.05038599, 0.0503848 ,\n",
       "       0.0503836 , 0.05038241, 0.05038122, 0.05038003, 0.05037885,\n",
       "       0.05037766, 0.05037648, 0.05037529, 0.05037411, 0.05037293,\n",
       "       0.05037175, 0.05037057, 0.05036939, 0.05036821, 0.05036704,\n",
       "       0.05036586, 0.05036469, 0.05036351, 0.05036234, 0.05036117,\n",
       "       0.05036   , 0.05035883, 0.05035767, 0.0503565 , 0.05035534,\n",
       "       0.05035417, 0.05035301, 0.05035185, 0.05035069, 0.05034953,\n",
       "       0.05034837, 0.05034722, 0.05034606, 0.05034491, 0.05034375,\n",
       "       0.0503426 , 0.05034145, 0.0503403 , 0.05033915, 0.050338  ,\n",
       "       0.05033686, 0.05033571, 0.05033457, 0.05033342, 0.05033228,\n",
       "       0.05033114, 0.05033   , 0.05032886, 0.05032772, 0.05032659,\n",
       "       0.05032545, 0.05032432, 0.05032318, 0.05032205, 0.05032092,\n",
       "       0.05031979, 0.05031866, 0.05031753, 0.0503164 , 0.05031528,\n",
       "       0.05031415, 0.05031303, 0.05031191, 0.05031079, 0.05030967,\n",
       "       0.05030855, 0.05030743, 0.05030631, 0.0503052 , 0.05030408,\n",
       "       0.05030297, 0.05030186, 0.05030074, 0.05029963, 0.05029852,\n",
       "       0.05029742, 0.05029631, 0.0502952 , 0.0502941 , 0.05029299,\n",
       "       0.05029189, 0.05029079, 0.05028969, 0.05028859, 0.05028749,\n",
       "       0.05028639, 0.05028529, 0.0502842 , 0.0502831 , 0.05028201,\n",
       "       0.05028092, 0.05027983, 0.05027874, 0.05027765, 0.05027656,\n",
       "       0.05027547, 0.05027439, 0.0502733 , 0.05027222, 0.05027114,\n",
       "       0.05027005, 0.05026897, 0.05026789, 0.05026681, 0.05026574])"
      ]
     },
     "execution_count": 70,
     "metadata": {},
     "output_type": "execute_result"
    }
   ],
   "source": [
    "custo"
   ]
  },
  {
   "cell_type": "code",
   "execution_count": 71,
   "metadata": {},
   "outputs": [
    {
     "name": "stdout",
     "output_type": "stream",
     "text": [
      "w0=0.2572951402576747, w1=0.23406210783855058\n"
     ]
    }
   ],
   "source": [
    "print(\"w0={}, w1={}\".format(w0,w1))"
   ]
  },
  {
   "cell_type": "code",
   "execution_count": 72,
   "metadata": {},
   "outputs": [
    {
     "data": {
      "text/plain": [
       "Text(0.5, 1.0, 'MSE vs. Epoch')"
      ]
     },
     "execution_count": 72,
     "metadata": {},
     "output_type": "execute_result"
    },
    {
     "data": {
      "image/png": "[encoded data removed]",
      "text/plain": [
       "<Figure size 432x288 with 1 Axes>"
      ]
     },
     "metadata": {},
     "output_type": "display_data"
    }
   ],
   "source": [
    "fig, ax = plt.subplots()  \n",
    "ax.plot(np.arange(epoch), custo, 'r')  \n",
    "ax.set_xlabel('Iterações')  \n",
    "ax.set_ylabel('Custo')  \n",
    "ax.set_title('MSE vs. Epoch')"
   ]
  },
  {
   "cell_type": "code",
   "execution_count": 73,
   "metadata": {},
   "outputs": [
    {
     "data": {
      "image/png": "[encoded data removed]",
      "text/plain": [
       "<Figure size 432x288 with 1 Axes>"
      ]
     },
     "metadata": {},
     "output_type": "display_data"
    }
   ],
   "source": [
    "plot_line(X,y, w0, w1)"
   ]
  },
  {
   "cell_type": "code",
   "execution_count": 74,
   "metadata": {},
   "outputs": [
    {
     "data": {
      "text/plain": [
       "117.28834905953296"
      ]
     },
     "execution_count": 74,
     "metadata": {},
     "output_type": "execute_result"
    }
   ],
   "source": [
    "## Realizando uma previsão\n",
    "hip(500, w0, w1)"
   ]
  }
 ],
 "metadata": {
  "kernelspec": {
   "display_name": "Python 3",
   "language": "python",
   "name": "python3"
  },
  "language_info": {
   "codemirror_mode": {
    "name": "ipython",
    "version": 3
   },
   "file_extension": ".py",
   "mimetype": "text/x-python",
   "name": "python",
   "nbconvert_exporter": "python",
   "pygments_lexer": "ipython3",
   "version": "3.6.7"
  }
 },
 "nbformat": 4,
 "nbformat_minor": 2
}
