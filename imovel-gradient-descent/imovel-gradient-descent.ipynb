{
 "cells": [
  {
   "cell_type": "code",
   "execution_count": 76,
   "metadata": {},
   "outputs": [],
   "source": [
    "import numpy as np\n",
    "import matplotlib.pyplot as plt\n",
    "import pandas as pd\n",
    "import math\n",
    "import re\n",
    "import zapimoveis_scraper\n",
    "\n",
    "%matplotlib inline"
   ]
  },
  {
   "cell_type": "code",
   "execution_count": 77,
   "metadata": {},
   "outputs": [],
   "source": [
    "## Dados\n",
    "zap_imoveis = zapimoveis_scraper.search(localization=\"go+goiania++setor-oeste\", num_pages=8)\n",
    "new_list_zap = {}\n",
    "\n",
    "prices = []\n",
    "areas = []\n",
    "for zap_imovel in zap_imoveis:\n",
    "    prices.append(int(re.sub('[^0-9]', '', zap_imovel.price)))\n",
    "    areas.append(int(str(zap_imovel.total_area_m2).replace('m2', '')))\n",
    "\n",
    "new_list_zap['preco'] = prices\n",
    "new_list_zap['tamanho'] = areas\n",
    "apes = pd.DataFrame(new_list_zap)\n",
    "\n",
    "X_original = np.array(apes.tamanho)\n",
    "y_original = np.array(apes.preco)"
   ]
  },
  {
   "cell_type": "code",
   "execution_count": 78,
   "metadata": {},
   "outputs": [],
   "source": [
    "## Normalizando os dados\n",
    "### Função para pegar o maior e o menor\n",
    "def pegar_min_max(linha):\n",
    "    maior = max(linha)\n",
    "    menor = min(linha)\n",
    "    \n",
    "    return menor, maior\n",
    "\n",
    "def normalizar(menor, maior, dados):\n",
    "    dados_normalizados = []\n",
    "    for dado in dados:\n",
    "        dados_normalizados.append((dado - menor) / (maior - menor))\n",
    "    return dados_normalizados"
   ]
  },
  {
   "cell_type": "code",
   "execution_count": 79,
   "metadata": {},
   "outputs": [],
   "source": [
    "minX, maxX = pegar_min_max(X_original)\n",
    "minY, maxY = pegar_min_max(y_original)\n",
    "\n",
    "X = normalizar(minX, maxX, X_original)\n",
    "y = normalizar(minY, maxY, y_original)"
   ]
  },
  {
   "cell_type": "code",
   "execution_count": 80,
   "metadata": {},
   "outputs": [
    {
     "data": {
      "text/plain": [
       "[0.1411042944785276,\n",
       " 0.19141104294478528,\n",
       " 0.2883435582822086,\n",
       " 1.0,\n",
       " 0.32515337423312884,\n",
       " 0.17791411042944785,\n",
       " 0.2085889570552147,\n",
       " 0.1901840490797546,\n",
       " 0.0,\n",
       " 0.2147239263803681,\n",
       " 0.30920245398773005,\n",
       " 0.1656441717791411,\n",
       " 0.1411042944785276,\n",
       " 0.19141104294478528,\n",
       " 0.2883435582822086,\n",
       " 1.0,\n",
       " 0.32515337423312884,\n",
       " 0.17791411042944785,\n",
       " 0.2085889570552147,\n",
       " 0.1901840490797546,\n",
       " 0.0,\n",
       " 0.2147239263803681,\n",
       " 0.30920245398773005,\n",
       " 0.1656441717791411,\n",
       " 0.1411042944785276,\n",
       " 0.19141104294478528,\n",
       " 0.2883435582822086,\n",
       " 1.0,\n",
       " 0.32515337423312884,\n",
       " 0.17791411042944785,\n",
       " 0.2085889570552147,\n",
       " 0.1901840490797546,\n",
       " 0.0,\n",
       " 0.2147239263803681,\n",
       " 0.30920245398773005,\n",
       " 0.1656441717791411,\n",
       " 0.1411042944785276,\n",
       " 0.19141104294478528,\n",
       " 0.2883435582822086,\n",
       " 1.0,\n",
       " 0.32515337423312884,\n",
       " 0.17791411042944785,\n",
       " 0.2085889570552147,\n",
       " 0.1901840490797546,\n",
       " 0.0,\n",
       " 0.2147239263803681,\n",
       " 0.30920245398773005,\n",
       " 0.1656441717791411,\n",
       " 0.1411042944785276,\n",
       " 0.19141104294478528,\n",
       " 0.2883435582822086,\n",
       " 1.0,\n",
       " 0.32515337423312884,\n",
       " 0.17791411042944785,\n",
       " 0.2085889570552147,\n",
       " 0.1901840490797546,\n",
       " 0.0,\n",
       " 0.2147239263803681,\n",
       " 0.30920245398773005,\n",
       " 0.1656441717791411,\n",
       " 0.1411042944785276,\n",
       " 0.19141104294478528,\n",
       " 0.2883435582822086,\n",
       " 1.0,\n",
       " 0.32515337423312884,\n",
       " 0.17791411042944785,\n",
       " 0.2085889570552147,\n",
       " 0.1901840490797546,\n",
       " 0.0,\n",
       " 0.2147239263803681,\n",
       " 0.30920245398773005,\n",
       " 0.1656441717791411,\n",
       " 0.1411042944785276,\n",
       " 0.19141104294478528,\n",
       " 0.2883435582822086,\n",
       " 1.0,\n",
       " 0.32515337423312884,\n",
       " 0.17791411042944785,\n",
       " 0.2085889570552147,\n",
       " 0.1901840490797546,\n",
       " 0.0,\n",
       " 0.2147239263803681,\n",
       " 0.30920245398773005,\n",
       " 0.1656441717791411,\n",
       " 0.1411042944785276,\n",
       " 0.19141104294478528,\n",
       " 0.2883435582822086,\n",
       " 1.0,\n",
       " 0.32515337423312884,\n",
       " 0.17791411042944785,\n",
       " 0.2085889570552147,\n",
       " 0.1901840490797546,\n",
       " 0.0,\n",
       " 0.2147239263803681,\n",
       " 0.30920245398773005,\n",
       " 0.1656441717791411]"
      ]
     },
     "execution_count": 80,
     "metadata": {},
     "output_type": "execute_result"
    }
   ],
   "source": [
    "X"
   ]
  },
  {
   "cell_type": "code",
   "execution_count": 81,
   "metadata": {},
   "outputs": [
    {
     "data": {
      "text/plain": [
       "[0.06903765690376569,\n",
       " 0.13702928870292888,\n",
       " 0.20502092050209206,\n",
       " 1.0,\n",
       " 0.5292887029288703,\n",
       " 0.04811715481171548,\n",
       " 0.3200836820083682,\n",
       " 0.12133891213389121,\n",
       " 0.0,\n",
       " 0.3723849372384937,\n",
       " 0.3723849372384937,\n",
       " 0.100418410041841,\n",
       " 0.06903765690376569,\n",
       " 0.13702928870292888,\n",
       " 0.20502092050209206,\n",
       " 1.0,\n",
       " 0.5292887029288703,\n",
       " 0.04811715481171548,\n",
       " 0.3200836820083682,\n",
       " 0.12133891213389121,\n",
       " 0.0,\n",
       " 0.3723849372384937,\n",
       " 0.3723849372384937,\n",
       " 0.100418410041841,\n",
       " 0.06903765690376569,\n",
       " 0.13702928870292888,\n",
       " 0.20502092050209206,\n",
       " 1.0,\n",
       " 0.5292887029288703,\n",
       " 0.04811715481171548,\n",
       " 0.3200836820083682,\n",
       " 0.12133891213389121,\n",
       " 0.0,\n",
       " 0.3723849372384937,\n",
       " 0.3723849372384937,\n",
       " 0.100418410041841,\n",
       " 0.06903765690376569,\n",
       " 0.13702928870292888,\n",
       " 0.20502092050209206,\n",
       " 1.0,\n",
       " 0.5292887029288703,\n",
       " 0.04811715481171548,\n",
       " 0.3200836820083682,\n",
       " 0.12133891213389121,\n",
       " 0.0,\n",
       " 0.3723849372384937,\n",
       " 0.3723849372384937,\n",
       " 0.100418410041841,\n",
       " 0.06903765690376569,\n",
       " 0.13702928870292888,\n",
       " 0.20502092050209206,\n",
       " 1.0,\n",
       " 0.5292887029288703,\n",
       " 0.04811715481171548,\n",
       " 0.3200836820083682,\n",
       " 0.12133891213389121,\n",
       " 0.0,\n",
       " 0.3723849372384937,\n",
       " 0.3723849372384937,\n",
       " 0.100418410041841,\n",
       " 0.06903765690376569,\n",
       " 0.13702928870292888,\n",
       " 0.20502092050209206,\n",
       " 1.0,\n",
       " 0.5292887029288703,\n",
       " 0.04811715481171548,\n",
       " 0.3200836820083682,\n",
       " 0.12133891213389121,\n",
       " 0.0,\n",
       " 0.3723849372384937,\n",
       " 0.3723849372384937,\n",
       " 0.100418410041841,\n",
       " 0.06903765690376569,\n",
       " 0.13702928870292888,\n",
       " 0.20502092050209206,\n",
       " 1.0,\n",
       " 0.5292887029288703,\n",
       " 0.04811715481171548,\n",
       " 0.3200836820083682,\n",
       " 0.12133891213389121,\n",
       " 0.0,\n",
       " 0.3723849372384937,\n",
       " 0.3723849372384937,\n",
       " 0.100418410041841,\n",
       " 0.06903765690376569,\n",
       " 0.13702928870292888,\n",
       " 0.20502092050209206,\n",
       " 1.0,\n",
       " 0.5292887029288703,\n",
       " 0.04811715481171548,\n",
       " 0.3200836820083682,\n",
       " 0.12133891213389121,\n",
       " 0.0,\n",
       " 0.3723849372384937,\n",
       " 0.3723849372384937,\n",
       " 0.100418410041841]"
      ]
     },
     "execution_count": 81,
     "metadata": {},
     "output_type": "execute_result"
    }
   ],
   "source": [
    "y"
   ]
  },
  {
   "cell_type": "code",
   "execution_count": 82,
   "metadata": {},
   "outputs": [],
   "source": [
    "## TAXA DE APRENDIZADO ( velocidade de descida )\n",
    "alpha = 0.01"
   ]
  },
  {
   "cell_type": "code",
   "execution_count": 83,
   "metadata": {},
   "outputs": [],
   "source": [
    "## VALORES INICIAIS PARA W0 e W1\n",
    "w0 = 0.1\n",
    "w1 = 0.1"
   ]
  },
  {
   "cell_type": "code",
   "execution_count": 84,
   "metadata": {},
   "outputs": [],
   "source": [
    "## Definindo hipótese\n",
    "def hip(x, w0, w1):\n",
    "    return w0 + w1*x"
   ]
  },
  {
   "cell_type": "code",
   "execution_count": 85,
   "metadata": {},
   "outputs": [
    {
     "data": {
      "text/plain": [
       "0.25"
      ]
     },
     "execution_count": 85,
     "metadata": {},
     "output_type": "execute_result"
    }
   ],
   "source": [
    "## Realizando uma predição com o custo alto\n",
    "hip(1.5, w0, w1)"
   ]
  },
  {
   "cell_type": "code",
   "execution_count": 86,
   "metadata": {},
   "outputs": [],
   "source": [
    "## Função para plotar pontos e regressão\n",
    "def plot_line(X, y, w0, w1):\n",
    "    x_values = [i for i in range(int(min(X))-1, int(max(X))+2)]\n",
    "    y_values = [hip(x, w0, w1) for x in x_values]\n",
    "    plt.xlabel(\"Tamanho(m2)\")\n",
    "    plt.ylabel(\"Preço\")\n",
    "    plt.plot(x_values, y_values, 'r')\n",
    "    plt.plot(X, y, 'bo')"
   ]
  },
  {
   "cell_type": "code",
   "execution_count": 87,
   "metadata": {},
   "outputs": [
    {
     "data": {
      "image/png": "[encoded data removed]",
      "text/plain": [
       "<Figure size 432x288 with 1 Axes>"
      ]
     },
     "metadata": {},
     "output_type": "display_data"
    }
   ],
   "source": [
    "plot_line(X, y, w0, w1)"
   ]
  },
  {
   "cell_type": "code",
   "execution_count": 88,
   "metadata": {},
   "outputs": [],
   "source": [
    "## Função MSE(Média do erro ao quadrado)\n",
    "def MSE(X, y, w0, w1):\n",
    "    custo = 0\n",
    "    m = float(len(X))\n",
    "\n",
    "    for i in range(0, len(X)):\n",
    "        custo += (hip(X[i], w0, w1) - y[i]) ** 2\n",
    "\n",
    "    return custo / m"
   ]
  },
  {
   "cell_type": "code",
   "execution_count": 89,
   "metadata": {},
   "outputs": [
    {
     "data": {
      "text/plain": [
       "0.08180486969831623"
      ]
     },
     "execution_count": 89,
     "metadata": {},
     "output_type": "execute_result"
    }
   ],
   "source": [
    "MSE(X, y, w0, w1)"
   ]
  },
  {
   "cell_type": "code",
   "execution_count": 90,
   "metadata": {},
   "outputs": [],
   "source": [
    "epoch = 4000"
   ]
  },
  {
   "cell_type": "code",
   "execution_count": 91,
   "metadata": {},
   "outputs": [],
   "source": [
    "## Gradiente Descendente\n",
    "### STEP\n",
    "def gradient_descent_step(w0, w1, X, y, alpha):\n",
    "    erro_w0 = 0\n",
    "    erro_w1 = 0\n",
    "    m = float(len(X))\n",
    "\n",
    "    for i in range(0, len(X)):\n",
    "        erro_w0 += hip(float(X[i]), w0, w1) - float(y[i])\n",
    "        erro_w1 += (hip(float(X[i]), w0, w1) - float(y[i])) * X[i]\n",
    "\n",
    "    novo_w0 = w0 - alpha * (1 / m) * erro_w0\n",
    "    novo_w1 = w1 - alpha * (1 / m) * erro_w1\n",
    "    \n",
    "    return novo_w0, novo_w1"
   ]
  },
  {
   "cell_type": "code",
   "execution_count": 92,
   "metadata": {},
   "outputs": [],
   "source": [
    "### LOOP\n",
    "def gradient_descent(w0, w1, X, y, alpha, epoch):\n",
    "    custo = np.zeros(epoch)\n",
    "\n",
    "    for i in range(epoch):\n",
    "        w0, w1 = gradient_descent_step(w0, w1, X, y, alpha)\n",
    "        custo[i] = MSE(X, y, w0, w1)\n",
    "\n",
    "    return w0, w1, custo"
   ]
  },
  {
   "cell_type": "code",
   "execution_count": 93,
   "metadata": {},
   "outputs": [],
   "source": [
    "w0 , w1 , custo = gradient_descent(w0, w1, X, y, alpha, epoch)"
   ]
  },
  {
   "cell_type": "code",
   "execution_count": 94,
   "metadata": {},
   "outputs": [
    {
     "data": {
      "text/plain": [
       "array([0.08121147, 0.08062979, 0.0800596 , ..., 0.0108909 , 0.01089014,\n",
       "       0.01088937])"
      ]
     },
     "execution_count": 94,
     "metadata": {},
     "output_type": "execute_result"
    }
   ],
   "source": [
    "custo"
   ]
  },
  {
   "cell_type": "code",
   "execution_count": 95,
   "metadata": {},
   "outputs": [
    {
     "name": "stdout",
     "output_type": "stream",
     "text": [
      "w0=0.023917207855088957, w1=0.9364963482999935\n"
     ]
    }
   ],
   "source": [
    "print(\"w0={}, w1={}\".format(w0,w1))"
   ]
  },
  {
   "cell_type": "code",
   "execution_count": 96,
   "metadata": {},
   "outputs": [
    {
     "data": {
      "text/plain": [
       "Text(0.5, 1.0, 'MSE vs. Epoch')"
      ]
     },
     "execution_count": 96,
     "metadata": {},
     "output_type": "execute_result"
    },
    {
     "data": {
      "image/png": "[encoded data removed]",
      "text/plain": [
       "<Figure size 432x288 with 1 Axes>"
      ]
     },
     "metadata": {},
     "output_type": "display_data"
    }
   ],
   "source": [
    "fig, ax = plt.subplots()  \n",
    "ax.plot(np.arange(epoch), custo, 'r')  \n",
    "ax.set_xlabel('Iterações')  \n",
    "ax.set_ylabel('Custo')  \n",
    "ax.set_title('MSE vs. Epoch')"
   ]
  },
  {
   "cell_type": "code",
   "execution_count": 97,
   "metadata": {},
   "outputs": [
    {
     "data": {
      "image/png": "[encoded data removed]",
      "text/plain": [
       "<Figure size 432x288 with 1 Axes>"
      ]
     },
     "metadata": {},
     "output_type": "display_data"
    }
   ],
   "source": [
    "plot_line(X,y, w0, w1)"
   ]
  },
  {
   "cell_type": "code",
   "execution_count": 98,
   "metadata": {},
   "outputs": [
    {
     "data": {
      "text/plain": [
       "468.2720913578519"
      ]
     },
     "execution_count": 98,
     "metadata": {},
     "output_type": "execute_result"
    }
   ],
   "source": [
    "## Realizando uma previsão\n",
    "hip(500, w0, w1)"
   ]
  }
 ],
 "metadata": {
  "kernelspec": {
   "display_name": "Python 3",
   "language": "python",
   "name": "python3"
  },
  "language_info": {
   "codemirror_mode": {
    "name": "ipython",
    "version": 3
   },
   "file_extension": ".py",
   "mimetype": "text/x-python",
   "name": "python",
   "nbconvert_exporter": "python",
   "pygments_lexer": "ipython3",
   "version": "3.6.7"
  }
 },
 "nbformat": 4,
 "nbformat_minor": 2
}
